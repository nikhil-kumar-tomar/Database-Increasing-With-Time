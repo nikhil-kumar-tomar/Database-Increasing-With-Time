{
 "cells": [
  {
   "cell_type": "code",
   "execution_count": 20,
   "id": "34348a17",
   "metadata": {},
   "outputs": [
    {
     "name": "stdout",
     "output_type": "stream",
     "text": [
      "{'Kolkata', 'Bangalore', 'Ahmedabad', 'Nagpur', 'Sharjah', 'Abu Dhabi', 'Dharamsala', 'Rajkot', 'Durban', 'Delhi', 'Chandigarh', 'Kanpur', 'Port Elizabeth', 'East London', 'Ranchi', 'Mohali', 'Indore', 'Cape Town', 'Bengaluru', 'Mumbai', 'Visakhapatnam', 'Bloemfontein', 'Jaipur', 'Cuttack', 'Pune', 'Raipur', 'Johannesburg', 'Kochi', 'Kimberley', 'Chennai', 'Hyderabad', 'Centurion'}\n"
     ]
    }
   ],
   "source": [
    "import pandas as pd\n",
    "import numpy as np\n",
    "import matplotlib.pyplot as pyplot\n",
    "df=pd.read_excel(\"data_matches.xlsx\")\n",
    "# Unique Cities where IPL is played\n",
    "lo=df.loc[df[\"city\"].isnull()].index.tolist()\n",
    "for x in lo:\n",
    "    df.drop(x,inplace=True)\n",
    "sets={x for x in df[\"city\"]}\n",
    "print(sets)\n",
    "# Number of matches won by Kolkata Night Riders\n",
    "# print(len(df.loc[df[\"winner\"]==\"Kolkata Knight Riders\"]))\n",
    "# Number of matches won by Delhi Daredevils when batted first\n",
    "# print(len(df.loc[(df[\"winner\"]==\"Delhi Daredevils\") & (df[\"toss_decision\"]==\"bat\")]))\n",
    "# Royal challengers banglores toss and match\n",
    "# print(len(df.loc[(df[\"winner\"]==\"Royal Challengers Bangalore\") & (df[\"toss_winner\"]==\"Royal Challengers Bangalore\")]))\n"
   ]
  },
  {
   "cell_type": "code",
   "execution_count": 20,
   "id": "ef69378b",
   "metadata": {},
   "outputs": [
    {
     "name": "stdout",
     "output_type": "stream",
     "text": [
      "         id    Season    city                 date                team1  \\\n",
      "8       9.0  IPL-2017    Pune  2017-11-04 00:00:00     Delhi Daredevils   \n",
      "14     15.0  IPL-2017   Delhi           15-04-2017     Delhi Daredevils   \n",
      "38     39.0  IPL-2017   Delhi  2017-02-05 00:00:00  Sunrisers Hyderabad   \n",
      "40     41.0  IPL-2017   Delhi  2017-04-05 00:00:00        Gujarat Lions   \n",
      "48     49.0  IPL-2017  Kanpur  2017-10-05 00:00:00        Gujarat Lions   \n",
      "..      ...       ...     ...                  ...                  ...   \n",
      "644  7902.0  IPL-2018  Mumbai           14-04-2018       Mumbai Indians   \n",
      "661  7919.0  IPL-2018   Delhi           27-04-2018     Delhi Daredevils   \n",
      "667  7925.0  IPL-2018   Delhi  2018-02-05 00:00:00     Delhi Daredevils   \n",
      "687  7945.0  IPL-2018   Delhi           18-05-2018     Delhi Daredevils   \n",
      "690  7948.0  IPL-2018   Delhi           20-05-2018     Delhi Daredevils   \n",
      "\n",
      "                      team2             toss_winner toss_decision  result  \\\n",
      "8    Rising Pune Supergiant  Rising Pune Supergiant         field  normal   \n",
      "14          Kings XI Punjab        Delhi Daredevils           bat  normal   \n",
      "38         Delhi Daredevils        Delhi Daredevils         field  normal   \n",
      "40         Delhi Daredevils        Delhi Daredevils         field  normal   \n",
      "48         Delhi Daredevils        Delhi Daredevils         field  normal   \n",
      "..                      ...                     ...           ...     ...   \n",
      "644        Delhi Daredevils        Delhi Daredevils         field  normal   \n",
      "661   Kolkata Knight Riders   Kolkata Knight Riders         field  normal   \n",
      "667        Rajasthan Royals        Rajasthan Royals         field  normal   \n",
      "687     Chennai Super Kings     Chennai Super Kings         field  normal   \n",
      "690          Mumbai Indians        Delhi Daredevils           bat  normal   \n",
      "\n",
      "     dl_applied            winner  win_by_runs  win_by_wickets  \\\n",
      "8           0.0  Delhi Daredevils         97.0             0.0   \n",
      "14          0.0  Delhi Daredevils         51.0             0.0   \n",
      "38          0.0  Delhi Daredevils          0.0             6.0   \n",
      "40          0.0  Delhi Daredevils          0.0             7.0   \n",
      "48          0.0  Delhi Daredevils          0.0             2.0   \n",
      "..          ...               ...          ...             ...   \n",
      "644         0.0  Delhi Daredevils          0.0             7.0   \n",
      "661         0.0  Delhi Daredevils         55.0             0.0   \n",
      "667         1.0  Delhi Daredevils          4.0             0.0   \n",
      "687         0.0  Delhi Daredevils         34.0             0.0   \n",
      "690         0.0  Delhi Daredevils         11.0             0.0   \n",
      "\n",
      "    player_of_match                                    venue  \\\n",
      "8         SV Samson  Maharashtra Cricket Association Stadium   \n",
      "14      CJ Anderson                         Feroz Shah Kotla   \n",
      "38   Mohammed Shami                         Feroz Shah Kotla   \n",
      "40          RR Pant                         Feroz Shah Kotla   \n",
      "48          SS Iyer                               Green Park   \n",
      "..              ...                                      ...   \n",
      "644          JJ Roy                         Wankhede Stadium   \n",
      "661         SS Iyer                         Feroz Shah Kotla   \n",
      "667         RR Pant                         Feroz Shah Kotla   \n",
      "687        HV Patel                         Feroz Shah Kotla   \n",
      "690        A Mishra                         Feroz Shah Kotla   \n",
      "\n",
      "                  umpire1                umpire2          umpire3  \n",
      "8             AY Dandekar                 S Ravi              NaN  \n",
      "14               YC Barde            Nitin Menon              NaN  \n",
      "38               YC Barde            Nitin Menon              NaN  \n",
      "40              M Erasmus            Nitin Menon              NaN  \n",
      "48               YC Barde           AK Chaudhary              NaN  \n",
      "..                    ...                    ...              ...  \n",
      "644  K Ananthapadmanabhan            Nitin Menon       Rod Tucker  \n",
      "661         C Shamshuddin                 S Ravi  A Nanda Kishore  \n",
      "667              O Nandan  Virender Kumar Sharma   Bruce Oxenford  \n",
      "687      Kumar Dharmasena        Vineet Kulkarni         O Nandan  \n",
      "690      Kumar Dharmasena               O Nandan  Vineet Kulkarni  \n",
      "\n",
      "[67 rows x 18 columns]\n"
     ]
    }
   ],
   "source": [
    "# print(df.loc[df[\"winner\"]==\"Delhi Daredevils\"])"
   ]
  },
  {
   "cell_type": "code",
   "execution_count": 39,
   "id": "82e89bba",
   "metadata": {},
   "outputs": [
    {
     "name": "stdout",
     "output_type": "stream",
     "text": [
      "['Sunrisers Hyderabad' 'Rising Pune Supergiant' 'Kolkata Knight Riders'\n",
      " 'Kings XI Punjab' 'Royal Challengers Bangalore' 'Mumbai Indians'\n",
      " 'Delhi Daredevils' 'Gujarat Lions' 'Chennai Super Kings'\n",
      " 'Rajasthan Royals' 'Deccan Chargers' 'Pune Warriors'\n",
      " 'Kochi Tuskers Kerala' nan 'Rising Pune Supergiants' 'Delhi Capitals']\n"
     ]
    }
   ],
   "source": [
    "print(df[\"winner\"].unique())"
   ]
  },
  {
   "cell_type": "code",
   "execution_count": null,
   "id": "a0c6e49a",
   "metadata": {},
   "outputs": [],
   "source": []
  }
 ],
 "metadata": {
  "kernelspec": {
   "display_name": "Python 3 (ipykernel)",
   "language": "python",
   "name": "python3"
  },
  "language_info": {
   "codemirror_mode": {
    "name": "ipython",
    "version": 3
   },
   "file_extension": ".py",
   "mimetype": "text/x-python",
   "name": "python",
   "nbconvert_exporter": "python",
   "pygments_lexer": "ipython3",
   "version": "3.10.5"
  }
 },
 "nbformat": 4,
 "nbformat_minor": 5
}
