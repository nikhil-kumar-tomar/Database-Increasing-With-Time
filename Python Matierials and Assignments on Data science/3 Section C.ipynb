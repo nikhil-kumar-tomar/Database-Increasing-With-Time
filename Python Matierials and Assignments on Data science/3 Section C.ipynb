{
 "cells": [
  {
   "cell_type": "code",
   "execution_count": 37,
   "id": "3b3e1e84",
   "metadata": {},
   "outputs": [
    {
     "name": "stdout",
     "output_type": "stream",
     "text": [
      "2015\n",
      "1998\n",
      "889\n",
      "60\n"
     ]
    }
   ],
   "source": [
    "import csv\n",
    "import pandas as pd\n",
    "import numpy as np\n",
    "import matplotlib.pyplot as pylplot\n",
    "from sklearn.impute import SimpleImputer\n",
    "\n",
    "df=pd.read_excel(\"Summer-Olympic-medals-1976-to-2008student.xlsx\")\n",
    "newdf=df\n",
    "Country_df=newdf.set_index(\"City\")\n",
    "\n",
    "# for Medals won by Sydney\n",
    "print(len(Country_df.loc[\"Sydney\",[\"Medal\"]])) \n",
    "\n",
    "# for Medals won by Athens\n",
    "print(len(Country_df.loc[\"Athens\",[\"Medal\"]])) \n",
    "\n",
    "# For city Sydney and Gender Women\n",
    "fd=Country_df.loc[\"Sydney\"]\n",
    "print(len(fd.loc[(fd[\"Gender\"]==\"Women\"),[\"Medal\"]]))\n",
    "\n",
    "# For city Atlanta in sport Wrestling\n",
    "fd=Country_df.loc[\"Atlanta\"]\n",
    "print(len(fd.loc[(fd[\"Sport\"]==\"Wrestling\"),[\"Medal\",\"Sport\"]]))\n",
    "\n",
    "\n",
    "\n"
   ]
  },
  {
   "cell_type": "code",
   "execution_count": 33,
   "id": "541e14a5",
   "metadata": {},
   "outputs": [],
   "source": [
    "# print(df)"
   ]
  },
  {
   "cell_type": "code",
   "execution_count": null,
   "id": "1e93e10e",
   "metadata": {},
   "outputs": [],
   "source": []
  }
 ],
 "metadata": {
  "kernelspec": {
   "display_name": "Python 3 (ipykernel)",
   "language": "python",
   "name": "python3"
  },
  "language_info": {
   "codemirror_mode": {
    "name": "ipython",
    "version": 3
   },
   "file_extension": ".py",
   "mimetype": "text/x-python",
   "name": "python",
   "nbconvert_exporter": "python",
   "pygments_lexer": "ipython3",
   "version": "3.10.5"
  }
 },
 "nbformat": 4,
 "nbformat_minor": 5
}
